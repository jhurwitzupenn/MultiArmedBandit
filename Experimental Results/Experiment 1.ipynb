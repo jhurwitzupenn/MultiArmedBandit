{
 "cells": [
  {
   "cell_type": "code",
   "execution_count": 1,
   "metadata": {
    "collapsed": true
   },
   "outputs": [],
   "source": [
    "##Experimental results - "
   ]
  },
  {
   "cell_type": "code",
   "execution_count": 2,
   "metadata": {
    "collapsed": true
   },
   "outputs": [],
   "source": [
    "import sys\n",
    "sys.path.append(\"..\")\n",
    "sys.path.append(\"../strategies\")\n",
    "import numpy as np"
   ]
  },
  {
   "cell_type": "code",
   "execution_count": 29,
   "metadata": {
    "collapsed": true
   },
   "outputs": [],
   "source": [
    "from visualizer import Visualizer\n",
    "from bandit import Bandit\n",
    "from distributions import Binomial\n",
    "from semiUniformStrategies import EpsilonGreedyStrategy\n",
    "from semiUniformStrategies import EpsilonFirstStrategy\n",
    "from ucbStrategies import UCB1Strategy\n",
    "from ucbStrategies import UCB2Strategy\n",
    "from softMaxStrategies import SoftMaxStrategyFixed"
   ]
  },
  {
   "cell_type": "code",
   "execution_count": 4,
   "metadata": {
    "collapsed": false
   },
   "outputs": [],
   "source": [
    "bandit = Bandit([Binomial(1, 0),\n",
    "                 Binomial(1, .1), \n",
    "                 Binomial(1, .2),\n",
    "                 Binomial(1, .3),\n",
    "                 Binomial(1, .4),\n",
    "                 Binomial(1, .5),\n",
    "                 Binomial(1, .6),\n",
    "                 Binomial(1, .7),\n",
    "                 Binomial(1, .8),\n",
    "                 Binomial(1, .9),\n",
    "                 Binomial(1, 1)])"
   ]
  },
  {
   "cell_type": "code",
   "execution_count": 5,
   "metadata": {
    "collapsed": false
   },
   "outputs": [],
   "source": [
    "#epsilon greedy parameter tunning \n",
    "playSequences = []\n",
    "payoutSequences = []\n",
    "totalRegretList = []\n",
    "for i in np.arange(0.0, 1.1, 0.05):\n",
    "    eGreedy = EpsilonGreedyStrategy(i)\n",
    "    plays, payoutPerStep, _ = eGreedy.run(1000, bandit)\n",
    "    playSequences.append(plays)\n",
    "    payoutSequences.append(payoutPerStep)\n",
    "    regretPerStep, totalRegret = bandit.getRegret(plays)\n",
    "    totalRegretList.append(totalRegret)"
   ]
  },
  {
   "cell_type": "code",
   "execution_count": 6,
   "metadata": {
    "collapsed": false
   },
   "outputs": [
    {
     "data": {
      "text/plain": [
       "[1000.0,\n",
       " 178.39999999999995,\n",
       " 146.00000000000054,\n",
       " 122.80000000000024,\n",
       " 94.099999999999994,\n",
       " 167.30000000000007,\n",
       " 201.90000000000003,\n",
       " 183.19999999999982,\n",
       " 221.79999999999995,\n",
       " 212.39999999999989,\n",
       " 265.30000000000007,\n",
       " 280.30000000000001,\n",
       " 303.90000000000038,\n",
       " 335.7999999999999,\n",
       " 369.70000000000022,\n",
       " 389.30000000000047,\n",
       " 417.60000000000008,\n",
       " 432.40000000000003,\n",
       " 425.80000000000001,\n",
       " 483.50000000000011,\n",
       " 494.50000000000011,\n",
       " 510.29999999999978]"
      ]
     },
     "execution_count": 6,
     "metadata": {},
     "output_type": "execute_result"
    }
   ],
   "source": [
    "totalRegretList"
   ]
  },
  {
   "cell_type": "code",
   "execution_count": 7,
   "metadata": {
    "collapsed": true
   },
   "outputs": [],
   "source": [
    "##optimal epsilon: 0.15"
   ]
  },
  {
   "cell_type": "code",
   "execution_count": 16,
   "metadata": {
    "collapsed": false
   },
   "outputs": [],
   "source": [
    "#epsilon first parameter tunning \n",
    "playSequences = []\n",
    "payoutSequences = []\n",
    "totalRegretList = []\n",
    "for i in np.arange(0.0, 1.05, 0.05):\n",
    "    eFirst = EpsilonFirstStrategy(i)\n",
    "    plays, payoutPerStep, _ = eFirst.run(1000, bandit)\n",
    "    playSequences.append(plays)\n",
    "    payoutSequences.append(payoutPerStep)\n",
    "    regretPerStep, totalRegret = bandit.getRegret(plays)\n",
    "    totalRegretList.append(totalRegret)"
   ]
  },
  {
   "cell_type": "code",
   "execution_count": 17,
   "metadata": {
    "collapsed": false
   },
   "outputs": [
    {
     "data": {
      "text/plain": [
       "[1000.0,\n",
       " 219.29999999999617,\n",
       " 143.49999999999562,\n",
       " 78.899999999999963,\n",
       " 99.200000000000031,\n",
       " 125.99999999999997,\n",
       " 143.40000000000003,\n",
       " 184.69999999999996,\n",
       " 198.10000000000005,\n",
       " 222.40000000000012,\n",
       " 241.29999999999998,\n",
       " 277.60000000000008,\n",
       " 300.20000000000005,\n",
       " 318.50000000000011,\n",
       " 351.89999999999986,\n",
       " 386.5999999999998,\n",
       " 411.10000000000025,\n",
       " 445.90000000000015,\n",
       " 460.7000000000001,\n",
       " 472.09999999999957,\n",
       " 509.4000000000002]"
      ]
     },
     "execution_count": 17,
     "metadata": {},
     "output_type": "execute_result"
    }
   ],
   "source": [
    "totalRegretList"
   ]
  },
  {
   "cell_type": "code",
   "execution_count": 26,
   "metadata": {
    "collapsed": false
   },
   "outputs": [],
   "source": [
    "#ucb2\n",
    "playSequences = []\n",
    "payoutSequences = []\n",
    "totalRegretList = []\n",
    "for i in np.arange(0.05, 1.05, 0.05):\n",
    "    ucb2 = UCB2Strategy(i)\n",
    "    plays, payoutPerStep, xx = ucb2.run(1000, bandit)\n",
    "    playSequences.append(plays)\n",
    "    payoutSequences.append(payoutPerStep)\n",
    "    regretPerStep, totalRegret = bandit.getRegret(plays)\n",
    "    totalRegretList.append(totalRegret)"
   ]
  },
  {
   "cell_type": "code",
   "execution_count": 27,
   "metadata": {
    "collapsed": false
   },
   "outputs": [
    {
     "data": {
      "text/plain": [
       "[42.800000000000047,\n",
       " 53.700000000000259,\n",
       " 62.400000000000205,\n",
       " 63.500000000000234,\n",
       " 62.100000000000122,\n",
       " 65.400000000000247,\n",
       " 76.500000000000156,\n",
       " 76.099999999999866,\n",
       " 71.299999999999955,\n",
       " 77.399999999999849,\n",
       " 93.899999999999778,\n",
       " 72.900000000000134,\n",
       " 94.899999999999736,\n",
       " 78.400000000000048,\n",
       " 67.30000000000021,\n",
       " 111.2999999999998,\n",
       " 133.29999999999933,\n",
       " 110.79999999999944,\n",
       " 108.79999999999917,\n",
       " 100.89999999999961]"
      ]
     },
     "execution_count": 27,
     "metadata": {},
     "output_type": "execute_result"
    }
   ],
   "source": [
    "totalRegretList"
   ]
  },
  {
   "cell_type": "code",
   "execution_count": 36,
   "metadata": {
    "collapsed": false
   },
   "outputs": [],
   "source": [
    "##softmax\n",
    "playSequences = []\n",
    "payoutSequences = []\n",
    "totalRegretList = []\n",
    "for i in np.arange(1, 1000, 100):\n",
    "    sm = SoftMaxStrategyFixed(i)\n",
    "    plays, payoutPerStep, xx = sm.run(1000, bandit)\n",
    "    \n",
    "    playSequences.append(plays)\n",
    "    payoutSequences.append(payoutPerStep)\n",
    "    regretPerStep, totalRegret = bandit.getRegret(plays)\n",
    "    totalRegretList.append(totalRegret)"
   ]
  },
  {
   "cell_type": "code",
   "execution_count": 37,
   "metadata": {
    "collapsed": false
   },
   "outputs": [
    {
     "data": {
      "text/plain": [
       "[0.0, 0.0, 0.0, 0.0, 0.0, 0.0, 0.0, 0.0, 0.0, 0.0]"
      ]
     },
     "execution_count": 37,
     "metadata": {},
     "output_type": "execute_result"
    }
   ],
   "source": [
    "totalRegretList"
   ]
  },
  {
   "cell_type": "code",
   "execution_count": 38,
   "metadata": {
    "collapsed": false
   },
   "outputs": [
    {
     "name": "stdout",
     "output_type": "stream",
     "text": [
      "1\n",
      "101\n",
      "201\n",
      "301\n",
      "401\n",
      "501\n",
      "601\n",
      "701\n",
      "801\n",
      "901\n"
     ]
    }
   ],
   "source": [
    "for i in np.arange(1, 1000, 100):\n",
    "    print(i)"
   ]
  },
  {
   "cell_type": "code",
   "execution_count": null,
   "metadata": {
    "collapsed": true
   },
   "outputs": [],
   "source": []
  }
 ],
 "metadata": {
  "kernelspec": {
   "display_name": "Python 3",
   "language": "python",
   "name": "python3"
  },
  "language_info": {
   "codemirror_mode": {
    "name": "ipython",
    "version": 3
   },
   "file_extension": ".py",
   "mimetype": "text/x-python",
   "name": "python",
   "nbconvert_exporter": "python",
   "pygments_lexer": "ipython3",
   "version": "3.6.0"
  }
 },
 "nbformat": 4,
 "nbformat_minor": 2
}
