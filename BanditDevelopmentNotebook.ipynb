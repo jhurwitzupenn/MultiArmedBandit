{
 "cells": [
  {
   "cell_type": "code",
   "execution_count": null,
   "metadata": {
    "collapsed": true
   },
   "outputs": [],
   "source": [
    "import numpy as np\n",
    "from functools import partial\n",
    "from abc import ABCMeta, abstractmethod"
   ]
  },
  {
   "cell_type": "code",
   "execution_count": null,
   "metadata": {
    "collapsed": true
   },
   "outputs": [],
   "source": [
    "class Distribution:\n",
    "    __metaclass__ = ABCMeta\n",
    "\n",
    "    @abstractmethod\n",
    "    # Returns a single sample (int) drawn from the distribution\n",
    "    def getSample(self):\n",
    "        pass\n",
    "    \n",
    "    @abstractmethod\n",
    "    # Returns the mean (float) of the distribution\n",
    "    def getMean(self):\n",
    "        pass"
   ]
  },
  {
   "cell_type": "code",
   "execution_count": null,
   "metadata": {
    "collapsed": true
   },
   "outputs": [],
   "source": [
    "class Binomial(Distribution):\n",
    "    \"\"\"docstring for _Binomial\"\"\"\n",
    "    def __init__(self, n, p):\n",
    "        self._mean = n * p\n",
    "        self._binom = partial(np.random.binomial, n=n, p=p)        \n",
    "        \n",
    "    def getSample(self):\n",
    "        return self._binom()\n",
    "    \n",
    "    def getMean(self):\n",
    "        return self._mean"
   ]
  },
  {
   "cell_type": "code",
   "execution_count": null,
   "metadata": {
    "collapsed": true
   },
   "outputs": [],
   "source": [
    "class _Arm(object):\n",
    "    \"\"\"docstring for _Arm\"\"\"\n",
    "    def __init__(self, dist):\n",
    "        self._dist = dist\n",
    "    \n",
    "    def payout(self):\n",
    "        return self._dist.getSample()\n",
    "\n",
    "_vArm = np.vectorize(_Arm)"
   ]
  },
  {
   "cell_type": "code",
   "execution_count": null,
   "metadata": {
    "collapsed": true
   },
   "outputs": [],
   "source": [
    "class Bandit(object):\n",
    "    \"\"\"docstring for Bandit\"\"\"\n",
    "    def __init__(self, dists):\n",
    "        for dist in dists:\n",
    "            if not isinstance(dist, Distribution):\n",
    "                raise TypeError(\"Must pass in Distribution Iterable\")\n",
    "                \n",
    "        self.arms = _vArm(dists)\n",
    "        self.K = self.arms.size\n",
    "        self._optimalMean = max(dists, key=lambda d: d.getMean()).getMean()\n",
    "        \n",
    "    def getOptimalStrategyPayout(self, T):\n",
    "        return T * self._optimalMean\n",
    "    \n",
    "    def getRandomArm(self):\n",
    "        index = np.random.randint(0, self.K)\n",
    "        return index, self.arms[index]\n",
    "        "
   ]
  },
  {
   "cell_type": "code",
   "execution_count": null,
   "metadata": {
    "collapsed": true
   },
   "outputs": [],
   "source": [
    "bandit = Bandit([Binomial(1, .5), \n",
    "                 Binomial(1, .3),\n",
    "                 Binomial(1, .6)])"
   ]
  },
  {
   "cell_type": "code",
   "execution_count": null,
   "metadata": {},
   "outputs": [],
   "source": [
    "bandit.getOptimalStrategyPayout(10)"
   ]
  },
  {
   "cell_type": "code",
   "execution_count": null,
   "metadata": {
    "collapsed": true
   },
   "outputs": [],
   "source": [
    "class Strategy:\n",
    "    __metaclass__ = ABCMeta\n",
    "\n",
    "    @abstractmethod\n",
    "    # Returns payouts at each step of the algorithm\n",
    "    def run(self, T, bandit):\n",
    "        pass\n"
   ]
  },
  {
   "cell_type": "code",
   "execution_count": null,
   "metadata": {
    "collapsed": true
   },
   "outputs": [],
   "source": [
    "class EpsilonGreedyAlgorithm(Strategy):\n",
    "    \"\"\"docstring for EpsilonGreedyAlgorithm\"\"\"\n",
    "    def __init__(self, epsilon):\n",
    "        self._epsilon = epsilon\n",
    "\n",
    "    def run(self, T, bandit):\n",
    "        payoutPerStep = np.zeros(T)\n",
    "        cumPayouts = np.zeros(bandit.K)\n",
    "        cumPlays = np.zeros(bandit.K)\n",
    "        sampleMeans = np.zeros(bandit.K)\n",
    "        for t in range(T):\n",
    "            if (np.random.random() > 1 - self._epsilon):\n",
    "                index, arm = bandit.getRandomArm()\n",
    "            else:\n",
    "                index = np.argmax(sampleMeans)\n",
    "                arm = bandit.arms[index]\n",
    "\n",
    "            payout = arm.payout()\n",
    "            cumPayouts[index] += payout\n",
    "            cumPlays[index] += 1\n",
    "            payoutPerStep[t] = payout\n",
    "            sampleMeans[index] = np.divide(cumPayouts[index], cumPlays[index])\n",
    "\n",
    "        return payoutPerStep"
   ]
  },
  {
   "cell_type": "code",
   "execution_count": null,
   "metadata": {
    "collapsed": true
   },
   "outputs": [],
   "source": [
    "epg = EpsilonGreedyAlgorithm(.2)"
   ]
  },
  {
   "cell_type": "code",
   "execution_count": null,
   "metadata": {},
   "outputs": [],
   "source": [
    "epg.run(1000, bandit)"
   ]
  }
 ],
 "metadata": {
  "kernelspec": {
   "display_name": "Python 3",
   "language": "python",
   "name": "python3"
  },
  "language_info": {
   "codemirror_mode": {
    "name": "ipython",
    "version": 2
   },
   "file_extension": ".py",
   "mimetype": "text/x-python",
   "name": "python",
   "nbconvert_exporter": "python",
   "pygments_lexer": "ipython2",
   "version": "2.7.12"
  }
 },
 "nbformat": 4,
 "nbformat_minor": 2
}
