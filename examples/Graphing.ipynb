{
 "cells": [
  {
   "cell_type": "code",
   "execution_count": 1,
   "metadata": {
    "collapsed": false
   },
   "outputs": [],
   "source": [
    "import numpy as np\n",
    "import matplotlib.pyplot as plt\n"
   ]
  },
  {
   "cell_type": "code",
   "execution_count": null,
   "metadata": {
    "collapsed": false
   },
   "outputs": [
    {
     "data": {
      "text/plain": [
       "<mtrand.RandomState at 0x3fe41b0>"
      ]
     },
     "execution_count": 2,
     "metadata": {},
     "output_type": "execute_result"
    }
   ],
   "source": [
    "np.random.RandomState(10)"
   ]
  },
  {
   "cell_type": "code",
   "execution_count": null,
   "metadata": {
    "collapsed": false
   },
   "outputs": [],
   "source": [
    "plt.plot(np.arange(0.0, .30, 0.01), [300.00000000000631,\n",
    " 184.10000000000028,\n",
    " 132.21199999999911,\n",
    " 100.58299999999964,\n",
    " 97.076999999999373,\n",
    " 89.043999999999215,\n",
    " 81.992999999999569,\n",
    " 82.206999999999439,\n",
    " 83.639999999999546,\n",
    " 77.773999999999617,\n",
    " 86.485999999999592,\n",
    " 88.909999999999613,\n",
    " 85.99999999999973,\n",
    " 83.865999999999744,\n",
    " 92.481999999999729,\n",
    " 92.504999999999725,\n",
    " 92.050999999999931,\n",
    " 97.362999999999872,\n",
    " 102.52299999999987,\n",
    " 107.33899999999986,\n",
    " 111.4719999999998,\n",
    " 115.56299999999979,\n",
    " 117.07099999999987,\n",
    " 121.4429999999999,\n",
    " 125.41599999999983,\n",
    " 127.87699999999987,\n",
    " 135.5349999999998,\n",
    " 135.57599999999996,\n",
    " 140.63699999999994,\n",
    " 144.07899999999995], 'ro')\n",
    "plt.axis([0, .3, 0, 100])\n",
    "plt.show()"
   ]
  },
  {
   "cell_type": "code",
   "execution_count": null,
   "metadata": {
    "collapsed": false
   },
   "outputs": [],
   "source": [
    "sampleMeans = np.zeros(10)\n",
    "temperature = 10\n",
    "numerators = np.exp(sampleMeans / 10)\n",
    "numerators = np.exp()"
   ]
  },
  {
   "cell_type": "code",
   "execution_count": null,
   "metadata": {
    "collapsed": true
   },
   "outputs": [],
   "source": []
  }
 ],
 "metadata": {
  "anaconda-cloud": {},
  "kernelspec": {
   "display_name": "Python [Root]",
   "language": "python",
   "name": "Python [Root]"
  },
  "language_info": {
   "codemirror_mode": {
    "name": "ipython",
    "version": 2
   },
   "file_extension": ".py",
   "mimetype": "text/x-python",
   "name": "python",
   "nbconvert_exporter": "python",
   "pygments_lexer": "ipython2",
   "version": "2.7.12"
  }
 },
 "nbformat": 4,
 "nbformat_minor": 0
}
