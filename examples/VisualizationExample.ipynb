{
 "cells": [
  {
   "cell_type": "code",
   "execution_count": 1,
   "metadata": {
    "collapsed": true
   },
   "outputs": [],
   "source": [
    "import sys\n",
    "sys.path.append(\"..\")\n",
    "sys.path.append(\"../strategies\")"
   ]
  },
  {
   "cell_type": "code",
   "execution_count": 2,
   "metadata": {
    "collapsed": true
   },
   "outputs": [],
   "source": [
    "from visualizer import Visualizer\n",
    "from bandit import Bandit\n",
    "from distributions import Binomial\n",
    "from semiUniformStrategies import EpsilonGreedyStrategy\n",
    "from semiUniformStrategies import EpsilonFirstStrategy"
   ]
  },
  {
   "cell_type": "code",
   "execution_count": 3,
   "metadata": {
    "collapsed": true
   },
   "outputs": [],
   "source": [
    "bandit = Bandit([Binomial(1, .5), \n",
    "                 Binomial(1, .1),\n",
    "                 Binomial(1, .2),\n",
    "                 Binomial(1, .4),\n",
    "                 Binomial(1, .2),\n",
    "                 Binomial(1, .7),\n",
    "                 Binomial(1, .1),\n",
    "                 Binomial(1, .1),\n",
    "                 Binomial(1, .2),\n",
    "                 Binomial(1, .3),\n",
    "                 Binomial(1, .6)])"
   ]
  },
  {
   "cell_type": "code",
   "execution_count": 4,
   "metadata": {
    "collapsed": true
   },
   "outputs": [],
   "source": [
    "egs1 = EpsilonGreedyStrategy(.2)\n",
    "egs2 = EpsilonGreedyStrategy(.4)\n",
    "etc = EpsilonFirstStrategy(.5)"
   ]
  },
  {
   "cell_type": "code",
   "execution_count": 5,
   "metadata": {
    "collapsed": false
   },
   "outputs": [],
   "source": [
    "vis = Visualizer([egs1, egs2, etc], \n",
    "                 ['.2-ep', '.4-ep', '50-explore'])"
   ]
  },
  {
   "cell_type": "code",
   "execution_count": null,
   "metadata": {
    "collapsed": false
   },
   "outputs": [],
   "source": [
    "vis.run(100, bandit)"
   ]
  },
  {
   "cell_type": "code",
   "execution_count": null,
   "metadata": {
    "collapsed": false
   },
   "outputs": [],
   "source": [
    "vis.graphCumulativePayouts(showOptimal=True).show()"
   ]
  },
  {
   "cell_type": "code",
   "execution_count": null,
   "metadata": {
    "collapsed": false
   },
   "outputs": [],
   "source": [
    "vis.graphCumulativeRegrets().show()"
   ]
  }
 ],
 "metadata": {
  "anaconda-cloud": {},
  "kernelspec": {
   "display_name": "Python [Root]",
   "language": "python",
   "name": "Python [Root]"
  },
  "language_info": {
   "codemirror_mode": {
    "name": "ipython",
    "version": 2
   },
   "file_extension": ".py",
   "mimetype": "text/x-python",
   "name": "python",
   "nbconvert_exporter": "python",
   "pygments_lexer": "ipython2",
   "version": "2.7.12"
  }
 },
 "nbformat": 4,
 "nbformat_minor": 2
}
