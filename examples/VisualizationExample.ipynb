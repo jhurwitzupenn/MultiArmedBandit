{
 "cells": [
  {
   "cell_type": "code",
   "execution_count": null,
   "metadata": {
    "collapsed": true
   },
   "outputs": [],
   "source": [
    "import sys\n",
    "sys.path.append(\"..\")\n",
    "sys.path.append(\"../strategies\")"
   ]
  },
  {
   "cell_type": "code",
   "execution_count": null,
   "metadata": {
    "collapsed": true
   },
   "outputs": [],
   "source": [
    "from visualizer import Visualizer\n",
    "from bandit import Bandit\n",
    "from distributions import Binomial\n",
    "from semiUniformStrategies import EpsilonGreedyStrategy\n",
    "from semiUniformStrategies import EpsilonFirstStrategy"
   ]
  },
  {
   "cell_type": "code",
   "execution_count": null,
   "metadata": {
    "collapsed": true
   },
   "outputs": [],
   "source": [
    "bandit = Bandit([Binomial(1, .5), \n",
    "                 Binomial(1, .1),\n",
    "                 Binomial(1, .2),\n",
    "                 Binomial(1, .4),\n",
    "                 Binomial(1, .2),\n",
    "                 Binomial(1, .7),\n",
    "                 Binomial(1, .1),\n",
    "                 Binomial(1, .1),\n",
    "                 Binomial(1, .2),\n",
    "                 Binomial(1, .3),\n",
    "                 Binomial(1, .6)])"
   ]
  },
  {
   "cell_type": "code",
   "execution_count": null,
   "metadata": {
    "collapsed": true
   },
   "outputs": [],
   "source": [
    "egs1 = EpsilonGreedyStrategy(.2)\n",
    "egs2 = EpsilonGreedyStrategy(.4)\n",
    "etc = EpsilonFirstStrategy(.5)"
   ]
  },
  {
   "cell_type": "code",
   "execution_count": null,
   "metadata": {
    "collapsed": false
   },
   "outputs": [],
   "source": [
    "vis = Visualizer([egs1, egs2, etc], \n",
    "                 ['.2-ep', '.4-ep', '50-explore'])"
   ]
  },
  {
   "cell_type": "code",
   "execution_count": null,
   "metadata": {
    "collapsed": false
   },
   "outputs": [],
   "source": [
    "vis.run(1000, bandit)"
   ]
  },
  {
   "cell_type": "code",
   "execution_count": null,
   "metadata": {
    "collapsed": false
   },
   "outputs": [],
   "source": [
    "vis.graphCumulativePayouts(showOptimal=True).show()"
   ]
  },
  {
   "cell_type": "code",
   "execution_count": null,
   "metadata": {
    "collapsed": false
   },
   "outputs": [],
   "source": [
    "vis.graphCumulativeRegrets().show()"
   ]
  }
 ],
 "metadata": {
  "kernelspec": {
   "display_name": "Python 3",
   "language": "python",
   "name": "python3"
  },
  "language_info": {
   "codemirror_mode": {
    "name": "ipython",
    "version": 3
   },
   "file_extension": ".py",
   "mimetype": "text/x-python",
   "name": "python",
   "nbconvert_exporter": "python",
   "pygments_lexer": "ipython3",
   "version": "3.6.0"
  }
 },
 "nbformat": 4,
 "nbformat_minor": 2
}
