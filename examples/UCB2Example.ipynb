{
 "cells": [
  {
   "cell_type": "code",
   "execution_count": 1,
   "metadata": {
    "collapsed": false
   },
   "outputs": [],
   "source": [
    "import sys\n",
    "import time\n",
    "import numpy as np\n",
    "sys.path.append(\"..\")\n",
    "sys.path.append(\"../strategies\")"
   ]
  },
  {
   "cell_type": "code",
   "execution_count": 2,
   "metadata": {
    "collapsed": false
   },
   "outputs": [],
   "source": [
    "from visualizer import Visualizer\n",
    "from bandit import Bandit\n",
    "from distributions import Binomial\n",
    "from ucbStrategies import UCB2Strategy"
   ]
  },
  {
   "cell_type": "code",
   "execution_count": 3,
   "metadata": {
    "collapsed": false
   },
   "outputs": [],
   "source": [
    "bandit = Bandit([Binomial(1, 0),\n",
    "                 Binomial(1, .1), \n",
    "                 Binomial(1, .2),\n",
    "                 Binomial(1, .3),\n",
    "                 Binomial(1, .4),\n",
    "                 Binomial(1, .5),\n",
    "                 Binomial(1, .6),\n",
    "                 Binomial(1, .7),\n",
    "                 Binomial(1, .8),\n",
    "                 Binomial(1, .9),\n",
    "                 Binomial(1, 1)])"
   ]
  },
  {
   "cell_type": "code",
   "execution_count": 4,
   "metadata": {
    "collapsed": false
   },
   "outputs": [],
   "source": [
    "ucb2 = UCB2Strategy(0.5)"
   ]
  },
  {
   "cell_type": "code",
   "execution_count": 5,
   "metadata": {
    "collapsed": false
   },
   "outputs": [],
   "source": [
    "plays, a, b = ucb2.run(100000, bandit)\n",
    "regStep, regTot = bandit.getRegret(plays)"
   ]
  },
  {
   "cell_type": "code",
   "execution_count": 6,
   "metadata": {
    "collapsed": false
   },
   "outputs": [
    {
     "data": {
      "text/plain": [
       "206.39999999999736"
      ]
     },
     "execution_count": 6,
     "metadata": {},
     "output_type": "execute_result"
    }
   ],
   "source": [
    "regTot"
   ]
  }
 ],
 "metadata": {
  "kernelspec": {
   "display_name": "Python 3",
   "language": "python",
   "name": "python3"
  },
  "language_info": {
   "codemirror_mode": {
    "name": "ipython",
    "version": 3
   },
   "file_extension": ".py",
   "mimetype": "text/x-python",
   "name": "python",
   "nbconvert_exporter": "python",
   "pygments_lexer": "ipython3",
   "version": "3.6.0"
  }
 },
 "nbformat": 4,
 "nbformat_minor": 2
}
