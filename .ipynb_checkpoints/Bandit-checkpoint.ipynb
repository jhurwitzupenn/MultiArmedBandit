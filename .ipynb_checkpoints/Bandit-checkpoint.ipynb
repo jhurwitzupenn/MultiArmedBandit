{
 "cells": [
  {
   "cell_type": "code",
   "execution_count": 94,
   "metadata": {
    "collapsed": true
   },
   "outputs": [],
   "source": [
    "import numpy as np\n",
    "from functools import partial"
   ]
  },
  {
   "cell_type": "code",
   "execution_count": 95,
   "metadata": {
    "collapsed": true
   },
   "outputs": [],
   "source": [
    "class _Binomial(object):\n",
    "    \"\"\"docstring for _Binomial\"\"\"\n",
    "    def __init__(self, n, p):\n",
    "        self.mean = n * p\n",
    "        self.binom = partial(np.random.binomial, n=n, p=p)        \n",
    "        \n",
    "    def sample(self):\n",
    "        return self.binom()"
   ]
  },
  {
   "cell_type": "code",
   "execution_count": 96,
   "metadata": {
    "collapsed": true
   },
   "outputs": [],
   "source": [
    "class _Arm(object):\n",
    "    \"\"\"docstring for _Arm\"\"\"\n",
    "    def __init__(self, dist):\n",
    "        self.dist = dist\n",
    "    \n",
    "    def payout(self):\n",
    "        return self.dist.sample()\n",
    "\n",
    "_vArm = np.vectorize(_Arm)"
   ]
  },
  {
   "cell_type": "code",
   "execution_count": 97,
   "metadata": {
    "collapsed": true
   },
   "outputs": [],
   "source": [
    "class Bandit(object):\n",
    "    \"\"\"docstring for Bandit\"\"\"\n",
    "    def __init__(self, dists):\n",
    "        self.arms = _vArm(dists)"
   ]
  },
  {
   "cell_type": "code",
   "execution_count": 121,
   "metadata": {},
   "outputs": [],
   "source": [
    "bandit = Bandit([_Binomial(1, .5), \n",
    "                 _Binomial(1, .3),\n",
    "                 _Binomial(1, .6)])"
   ]
  },
  {
   "cell_type": "code",
   "execution_count": 120,
   "metadata": {},
   "outputs": [
    {
     "data": {
      "text/plain": [
       "0"
      ]
     },
     "execution_count": 120,
     "metadata": {},
     "output_type": "execute_result"
    }
   ],
   "source": [
    "bandit.arms[1].payout()"
   ]
  },
  {
   "cell_type": "code",
   "execution_count": null,
   "metadata": {
    "collapsed": true
   },
   "outputs": [],
   "source": []
  },
  {
   "cell_type": "code",
   "execution_count": null,
   "metadata": {
    "collapsed": true
   },
   "outputs": [],
   "source": []
  }
 ],
 "metadata": {
  "kernelspec": {
   "display_name": "Python 2",
   "language": "python",
   "name": "python2"
  },
  "language_info": {
   "codemirror_mode": {
    "name": "ipython",
    "version": 2
   },
   "file_extension": ".py",
   "mimetype": "text/x-python",
   "name": "python",
   "nbconvert_exporter": "python",
   "pygments_lexer": "ipython2",
   "version": "2.7.12"
  }
 },
 "nbformat": 4,
 "nbformat_minor": 2
}
